{
 "cells": [
  {
   "cell_type": "code",
   "execution_count": 86,
   "metadata": {},
   "outputs": [
    {
     "name": "stdout",
     "output_type": "stream",
     "text": [
      "{'GBR': 'London', 'USA': 'Washington', 'Russia': 'Moscow', 'Canada': 'Toronto'}\n",
      "{'GBR': 'London', 'Russia': 'Moscow', 'Canada': 'Toronto'}\n",
      "Object has not found\n",
      "{'GBR': 'London', 'Russia': 'Moscow', 'Canada': 'Toronto'}\n",
      "{'GBR': 'London', 'Russia': 'Boston', 'Canada': 'Toronto'}\n"
     ]
    },
    {
     "data": {
      "text/plain": [
       "\"{'GBR': 'London', 'Russia': 'Boston', 'Canada': 'Toronto'}\""
      ]
     },
     "execution_count": 86,
     "metadata": {},
     "output_type": "execute_result"
    }
   ],
   "source": [
    "\"\"\"\n",
    "Задание 1\n",
    "Есть некоторый словарь, который хранит названия стран и столиц. Название страны используется в качестве\n",
    "ключа, название столицы в качестве значения. \n",
    "Необходимо реализовать: добавление данных, удаление данных, поиск\n",
    "данных, редактирование данных, сохранение и загрузку\n",
    "данных (используя упаковку и распаковку).\"\"\"\n",
    "\n",
    "from dataclasses import dataclass, field\n",
    "from typing import Dict\n",
    "\n",
    "@dataclass\n",
    "class Capitals:\n",
    "    capitals: Dict[str, str] = field(default_factory=dict)\n",
    "    \n",
    "    def add(self, key: str, value: str) -> Dict[str, str]:\n",
    "        return self.capitals.update({key: value})\n",
    "    \n",
    "    def delete(self, key: str) -> Dict[str, str]:\n",
    "        self.capitals.pop(key)\n",
    "        return self.capitals\n",
    "    \n",
    "    def __str__(self):\n",
    "        return f\"{self.capitals}\"\n",
    "    \n",
    "    def search(self, key: str) -> Dict[str, str]:\n",
    "        return self.capitals.get(key) if key in self.capitals else print(\"Object has not found\")\n",
    "    \n",
    "    def edit(self, key: str, value: str) -> Dict[str, str]:\n",
    "        self.capitals[key] = value\n",
    "    \n",
    "    def serialize(self) -> str:\n",
    "#         return f\"<\"Country\": \"{self.capitals}\" \"\n",
    "        return str(self.capitals)\n",
    "#         return \":\".join(str(x) for x in self.capitals.items())\n",
    "    \n",
    "#     @classmethod\n",
    "#     def deserialize(self, item: str):\n",
    "#         lst = []\n",
    "#         for part in item.split\n",
    "    \n",
    "    \n",
    "cap_dict: Dict[str, str] = {\n",
    "    \"GBR\": \"London\",\n",
    "     \"USA\": \"Washington\",\n",
    "    \"Russia\": \"Moscow\",\n",
    "    }\n",
    "    \n",
    "cap1 = Capitals(cap_dict)\n",
    "cap1.add(\"Canada\", \"Toronto\")\n",
    "print(cap1)\n",
    "cap1.delete(\"USA\")\n",
    "print(cap1)\n",
    "cap1.search(\"DF\")\n",
    "print(cap1)\n",
    "cap1.edit(\"Russia\", \"Boston\")\n",
    "print(cap1)\n",
    "cap1.serialize()"
   ]
  },
  {
   "cell_type": "code",
   "execution_count": 134,
   "metadata": {},
   "outputs": [
    {
     "name": "stdout",
     "output_type": "stream",
     "text": [
      "[' GBR ', ' London ']\n",
      "'\n",
      "[' Russia ', ' Boston ']\n",
      "'\n",
      "[' Canada ', ' Toronto ']\n",
      "'\n"
     ]
    },
    {
     "data": {
      "text/plain": [
       "{}"
      ]
     },
     "execution_count": 134,
     "metadata": {},
     "output_type": "execute_result"
    }
   ],
   "source": [
    "s = \"{'GBR': 'London', 'Russia': 'Boston', 'Canada': 'Toronto'}\"\n",
    "\n",
    "for item in s.strip(\"{}\").split(\", \"):\n",
    "    lst = (item.replace(\"'\", \" \").split(\": \"))\n",
    "    print(item[0])\n",
    "    counter, capital = item[0], item[1]\n",
    "counters"
   ]
  }
 ],
 "metadata": {
  "kernelspec": {
   "display_name": "Python 3",
   "language": "python",
   "name": "python3"
  },
  "language_info": {
   "codemirror_mode": {
    "name": "ipython",
    "version": 3
   },
   "file_extension": ".py",
   "mimetype": "text/x-python",
   "name": "python",
   "nbconvert_exporter": "python",
   "pygments_lexer": "ipython3",
   "version": "3.7.0"
  }
 },
 "nbformat": 4,
 "nbformat_minor": 4
}
